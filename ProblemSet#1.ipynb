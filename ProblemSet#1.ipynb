{
 "cells": [
  {
   "cell_type": "markdown",
   "id": "2960a845",
   "metadata": {},
   "source": [
    "# PROBLEM SET 1"
   ]
  },
  {
   "cell_type": "markdown",
   "id": "d3830a99",
   "metadata": {},
   "source": [
    "## QUESTION.1.DATA TYPES"
   ]
  },
  {
   "cell_type": "code",
   "execution_count": null,
   "id": "c148345b",
   "metadata": {},
   "outputs": [],
   "source": [
    "What data type is each of the following?\n",
    "\n",
    "5 \n",
    "5.0\n",
    "5 > 1\n",
    "'5'\n",
    "5 * 2\n",
    "'5' * 2\n",
    "'5' + '2'\n",
    "5 / 2\n",
    "5 % 2\n",
    "{5, 2, 1}\n",
    "5 == 3\n",
    "Pi (the number)"
   ]
  },
  {
   "cell_type": "code",
   "execution_count": null,
   "id": "f66479be",
   "metadata": {},
   "outputs": [],
   "source": [
    "#WRITING DOWN THE EXPRESSIONS FOR GETTING DATA TYPES-------->\n",
    "\n",
    "#IT WILL BE OPEN IN C SHARP KERNEL NOT POSSIBLE IN THIS ONE\n",
    "\n",
    "Console.WriteLine((5).GetType());   //INTEGER /NUMBER      \n",
    "Console.WriteLine((5.0).GetType());  //DECIMAL/FLOAT      \n",
    "Console.WriteLine((5 > 1).GetType()); //BOOLEAN EXPRESSION-TRUE \n",
    "Console.WriteLine(('5').GetType());    //STRING   \n",
    "Console.WriteLine((5 * 2).GetType());   //STRING  \n",
    "Console.WriteLine(('5' * 2).GetType()); //\n",
    "Console.WriteLine(('5' + '2').GetType());  //STRING\n",
    "Console.WriteLine((5 / 2).GetType());      //DECIMAL/FLOAT\n",
    "Console.WriteLine((5 % 2).GetType());      //INTEGER/NUMBER\n",
    "Console.WriteLine((new[] { 5, 2, 1 }).GetType().Name);  //LIST OR SET\n",
    "Console.WriteLine((5 == 3).GetType());     //BOOLEAN EXPRESSION FALSE\n",
    "Console.WriteLine(Math.PI.GetType());      //DECIMAL/FLOAT "
   ]
  },
  {
   "cell_type": "code",
   "execution_count": null,
   "id": "a39e463a",
   "metadata": {},
   "outputs": [],
   "source": [
    "#OUTPUTS FOR THE PREVIOUS CELL \n",
    "\n",
    "System.Int32\n",
    "System.Double\n",
    "System.Boolean\n",
    "System.Char\n",
    "System.Int32\n",
    "System.Int32\n",
    "System.Int32\n",
    "System.Int32\n",
    "System.Int32\n",
    "Int32[]\n",
    "System.Boolean\n",
    "System.Double"
   ]
  },
  {
   "cell_type": "markdown",
   "id": "e6109b08",
   "metadata": {},
   "source": [
    "## QUESTION.2. C#"
   ]
  },
  {
   "cell_type": "code",
   "execution_count": null,
   "id": "767724fc",
   "metadata": {},
   "outputs": [],
   "source": [
    "Write (and evaluate) C# expressions that answer these questions:\n",
    "a. How many letters are there in 'Supercalifragilisticexpialidocious'?\n",
    "b. Does 'Supercalifragilisticexpialidocious' contain 'ice' as a substring? \n",
    "c. Which of the following words is the longest: \n",
    "Supercalifragilisticexpialidocious, Honorificabilitudinitatibus, or \n",
    "Bababadalgharaghtakamminarronnkonn? \n",
    "d. Which composer comes first in the dictionary: 'Berlioz', 'Borodin', 'Brian', \n",
    "'Bartok', 'Bellini', 'Buxtehude', 'Bernstein'. Which one comes last?"
   ]
  },
  {
   "cell_type": "code",
   "execution_count": null,
   "id": "8eb73ff6",
   "metadata": {},
   "outputs": [],
   "source": [
    "#2.A.CODE FOR A.\n",
    "\n",
    "string WORD = \"Supercalifragilisticexpialidocious\";  #adding a string WORD\n",
    "int LETTER_Count = WORD.Length;                      #WE HAVE A INTEGER WHICH WILL COUNT THE WORD\n",
    "Console.WriteLine(LETTER_Count);                     #IT WILL PRINT THE LETTER_Count"
   ]
  },
  {
   "cell_type": "code",
   "execution_count": null,
   "id": "eff68a0a",
   "metadata": {},
   "outputs": [],
   "source": [
    "#OUTPUT FOR CODE A.\n",
    "34"
   ]
  },
  {
   "cell_type": "code",
   "execution_count": null,
   "id": "50b67055",
   "metadata": {},
   "outputs": [],
   "source": [
    "#2.B.CODE FOR B.\n",
    "string word = \"Supercalifragilisticexpialidocious\";   #ADDING A STRING WORD\n",
    "bool containsSubstring = word.Contains(\"ice\");        #THERE IS BOOLEAN EXPRESSION WHICH WILL SEE THE CONTAINS IN THE WORD ICE\n",
    "Console.WriteLine(containsSubstring);                 #PRINT THE containsSubstring"
   ]
  },
  {
   "cell_type": "code",
   "execution_count": null,
   "id": "8fea2af4",
   "metadata": {},
   "outputs": [],
   "source": [
    "#OUTPUT FOR CODE B.\n",
    "True"
   ]
  },
  {
   "cell_type": "code",
   "execution_count": null,
   "id": "ca70b863",
   "metadata": {},
   "outputs": [],
   "source": [
    "#2.C.CODE FOR C.\n",
    "string[] words = { \"Supercalifragilisticexpialidocious\", \"Honorificabilitudinitatibus\", \"Bababadalgharaghtakamminarronnkonn\" };\n",
    "\n",
    "string longestWord = words[0];              //adding a string \"longestWord\"\n",
    "\n",
    "for (int i = 1; i < words.Length; i++)      //There is a loop which will read the characters in words set and read the words length  \n",
    "{\n",
    "    if (words[i].Length > longestWord.Length)      \n",
    "    {\n",
    "        longestWord = words[i];\n",
    "    }\n",
    "}\n",
    "\n",
    "Console.WriteLine(longestWord);           //printing the longest word"
   ]
  },
  {
   "cell_type": "code",
   "execution_count": null,
   "id": "b8bf6568",
   "metadata": {},
   "outputs": [],
   "source": [
    "#OUTPUT FOR CODE C.\n",
    "\n",
    "Supercalifragilisticexpialidocious"
   ]
  },
  {
   "cell_type": "code",
   "execution_count": null,
   "id": "10112cff",
   "metadata": {},
   "outputs": [],
   "source": [
    "#2.D.CODE FOR D.\n",
    "string[] Composers = { \"Berlioz\", \"Borodin\", \"Brian\", \"Bartok\", \"Bellini\", \"Buxtehude\", \"Bernstein\" };   //string for Composers\n",
    "Array.Sort(Composers);                                   \n",
    "string FirstComposer = Composers[0];      //string firstcomposer has been made \n",
    "string LastComposer = Composers[Composers.Length - 1]; //retrieves the element at the calculated index to calculate the last element in the array.\n",
    "Console.WriteLine(FirstComposer);  \n",
    "Console.WriteLine(LastComposer);   "
   ]
  },
  {
   "cell_type": "code",
   "execution_count": null,
   "id": "3a3578b1",
   "metadata": {},
   "outputs": [],
   "source": [
    "#OUTPUT FOR CODE D.\n",
    "Bartok\n",
    "Buxtehude"
   ]
  },
  {
   "cell_type": "markdown",
   "id": "a428b26b",
   "metadata": {},
   "source": [
    "## QUESTION 3.C#"
   ]
  },
  {
   "cell_type": "code",
   "execution_count": null,
   "id": "562fc202",
   "metadata": {},
   "outputs": [],
   "source": [
    "Implement function triangleArea(a,b,c) that takes as input the lengths of the 3\n",
    "sides of a triangle and returns the area of the triangle. By Heron's formula, the area \n",
    "of a triangle with side lengths a, b, and c is\n",
    "s(s - a)(s -b)(s -c)\n",
    ", where \n",
    "s = (a+b+c)/2. \n",
    ">>> triangleArea(2,2,2)\n",
    "1.7320508075688772"
   ]
  },
  {
   "cell_type": "code",
   "execution_count": null,
   "id": "ae9ace5c",
   "metadata": {},
   "outputs": [],
   "source": [
    "using System;\n",
    "\n",
    "public class Program                                                //The area is calculated using the Herons formula involving the semi-perimeter and the differences between the semi-perimeter and each side length.\n",
    "{\n",
    "    public static double TRIANGLEAREA(double a, double b, double c)\n",
    "    {\n",
    "        double s = (a + b + c) / 2;\n",
    "        double area = Math.Sqrt(s * (s - a) * (s - b) * (s - c));\n",
    "        return area;\n",
    "    }\n",
    "\n",
    "    public static void Main()\n",
    "    {\n",
    "        double area = TRIANGLEAREA(2, 2, 2);\n",
    "        Console.WriteLine(area);  \n",
    "    }\n",
    "}"
   ]
  },
  {
   "cell_type": "code",
   "execution_count": null,
   "id": "ef287707",
   "metadata": {},
   "outputs": [],
   "source": [
    "#OUTPUT OF QUESTION 3\n",
    "1.7320508075688772"
   ]
  },
  {
   "cell_type": "markdown",
   "id": "020566a8",
   "metadata": {},
   "source": [
    "## QUESTION 4. TEST DATA"
   ]
  },
  {
   "cell_type": "code",
   "execution_count": null,
   "id": "b406de16",
   "metadata": {},
   "outputs": [],
   "source": [
    "Write a program in C# Sharp to separate odd and even integers in separate arrays. \n",
    "Go to the editor\n",
    "Test Data :\n",
    "Input the number of elements to be stored in the array :5\n",
    "Input 5 elements in the array :\n",
    "element - 0 : 25\n",
    "element - 1 : 47\n",
    "element - 2 : 42\n",
    "element - 3 : 56\n",
    "element - 4 : 32\n",
    "Expected Output:\n",
    "The Even elements are:\n",
    "42 56 32\n",
    "The Odd elements are :\n",
    "25 4"
   ]
  },
  {
   "cell_type": "code",
   "execution_count": null,
   "id": "ddfec1b2",
   "metadata": {},
   "outputs": [],
   "source": [
    "using System;\n",
    "\n",
    "class Program\n",
    "{\n",
    "    static void Main()\n",
    "    {\n",
    "        Console.Write(\"Enter the number of elements to be stored in the array: \");\n",
    "        int n = Convert.ToInt32(Console.ReadLine());\n",
    "\n",
    "        int[] arr = new int[n];\n",
    "        int[] evenArr = new int[n];\n",
    "        int[] oddArr = new int[n];\n",
    "\n",
    "        Console.WriteLine($\"Enter {n} elements in the array:\");\n",
    "\n",
    "        for (int i = 0; i < n; i++)\n",
    "        {\n",
    "            Console.Write($\"Element - {i}: \");\n",
    "            arr[i] = Convert.ToInt32(Console.ReadLine());\n",
    "        }\n",
    "\n",
    "        int evenCount = 0;\n",
    "        int oddCount = 0;\n",
    "\n",
    "        for (int i = 0; i < n; i++)\n",
    "        {\n",
    "            if (arr[i] % 2 == 0)\n",
    "            {\n",
    "                evenArr[evenCount] = arr[i];        //After separating the elements, the program prints the even elements by iterating over evenArr up to evenCount and printing each element\n",
    "                evenCount++;\n",
    "            }\n",
    "            else\n",
    "            {\n",
    "                oddArr[oddCount] = arr[i];        //prints the odd elements by iterating over oddArr up to oddCount and printing each element\n",
    "                oddCount++;\n",
    "            }\n",
    "        }\n",
    "\n",
    "        Console.WriteLine(\"The Even elements are:\");\n",
    "        for (int i = 0; i < evenCount; i++)\n",
    "        {\n",
    "            Console.Write(evenArr[i] + \" \");\n",
    "        }\n",
    "\n",
    "        Console.WriteLine(\"\\nThe Odd elements are:\");\n",
    "        for (int i = 0; i < oddCount; i++)\n",
    "        {\n",
    "            Console.Write(oddArr[i] + \" \");\n",
    "        }\n",
    "\n",
    "        Console.ReadLine();\n",
    "    }\n",
    "}\n"
   ]
  },
  {
   "cell_type": "code",
   "execution_count": null,
   "id": "a62a1d13",
   "metadata": {},
   "outputs": [],
   "source": [
    "#OUTPUT OF QUESTION 4.\n",
    "Enter the number of elements to be stored in the array: 5\n",
    "Enter 5 elements in the array:\n",
    "Element - 0: 25\n",
    "Element - 1: 47\n",
    "Element - 2: 42\n",
    "Element - 3: 56\n",
    "Element - 4: 32\n",
    "The Even elements are:\n",
    "42 56 32\n",
    "The Odd elements are:\n",
    "25 47"
   ]
  },
  {
   "cell_type": "markdown",
   "id": "a1fe3a24",
   "metadata": {},
   "source": [
    "## QUESTION 5."
   ]
  },
  {
   "cell_type": "code",
   "execution_count": null,
   "id": "aec2fbfe",
   "metadata": {},
   "outputs": [],
   "source": [
    "5.a. Write a function inside(x,y,x1,y1,x2,y2) that returns True or False \n",
    "depending on whether the point (x,y) lies in the rectangle with lower left \n",
    "corner (x1,y1) and upper right corner (x2,y2).\n",
    ">>> inside(1,1,0,0,2,3)\n",
    "True\n",
    ">>> inside(-1,-1,0,0,2,3)\n",
    "False\n",
    "5.b. Use function inside() from part a. to write an expression that tests whether \n",
    "the point (1,1) lies in both of the following rectangles: one with lower left \n",
    "corner (0.3, 0.5) and upper right corner (1.1, 0.7) and the other with lower \n",
    "left corner (0.5, 0.2) and upper right corner (1.1, 2)."
   ]
  },
  {
   "cell_type": "code",
   "execution_count": null,
   "id": "4705ec5c",
   "metadata": {},
   "outputs": [],
   "source": [
    "#CODE FOR QUESTION 5.a. and 5.b.\n",
    "\n",
    "using System;\n",
    "\n",
    "class Program\n",
    "{                                                                                          //  x, y representing the coordinates of a point, and x1, y1, x2, y2 representing the coordinates of two opposite corners of a rectangle.\n",
    "    static bool Inside(double x, double y, double x1, double y1, double x2, double y2)      //The method checks if the point (x, y) falls within the rectangle defined by the coordinates (x1, y1) and (x2, y2)\n",
    "    {\n",
    "        if (x >= x1 && x <= x2 && y >= y1 && y <= y2)                    //If the point is inside the rectangle, the method returns true; otherwise, it returns false.\n",
    "        {\n",
    "            return true;\n",
    "        }\n",
    "        else\n",
    "        {\n",
    "            return false;\n",
    "        }\n",
    "    }\n",
    "\n",
    "    static void Main()\n",
    "    {\n",
    "        Console.WriteLine(\"\\n\\t Part a.\\t\\n\");\n",
    "        Console.WriteLine(Inside(1, 1, 0, 0, 2, 3));   \n",
    "        Console.WriteLine(Inside(-1, -1, 0, 0, 2, 3));  \n",
    "\n",
    "        Console.WriteLine(\"\\n\\t Part b.\\t\\n\");\n",
    "        bool isPointInsideBothRectangles = Inside(1, 1, 0.3, 0.5, 1.1, 0.7) && Inside(1, 1, 0.5, 0.2, 1.1, 2);\n",
    "        Console.WriteLine(isPointInsideBothRectangles);\n",
    "\n",
    "    }\n",
    "}"
   ]
  },
  {
   "cell_type": "code",
   "execution_count": null,
   "id": "fad05167",
   "metadata": {},
   "outputs": [],
   "source": [
    "#OUTPUT FOR CODE \n",
    "\n",
    "\n",
    "         Part a.\n",
    "\n",
    "True\n",
    "False\n",
    "\n",
    "         Part b.\n",
    "\n",
    "False"
   ]
  },
  {
   "cell_type": "markdown",
   "id": "a3733ba2",
   "metadata": {},
   "source": [
    "## QUESTION 6. PIG-LATIN RULES"
   ]
  },
  {
   "cell_type": "code",
   "execution_count": null,
   "id": "ddc67552",
   "metadata": {},
   "outputs": [],
   "source": [
    "You can turn a word into pig-Latin using the following two rules (simplified):\n",
    "• If the word starts with a consonant, move that letter to the end and append \n",
    "'ay'. For example, 'happy' becomes 'appyhay' and 'pencil' becomes 'encilpay'.\n",
    "• If the word starts with a vowel, simply append 'way' to the end of the word. \n",
    "For example, 'enter' becomes 'enterway' and 'other' becomes 'otherway' . For \n",
    "our purposes, there are 5 vowels: a, e, i, o, u (so we count y as a consonant).\n",
    "Write a function pig() that takes a word (i.e., a string) as input and returns its pig\u0002Latin form. Your function should still work if the input word contains upper case \n",
    "characters. Your output should always be lower case however. \n",
    ">>> pig('happy')\n",
    "'appyhay'\n",
    ">>> pig('Enter')\n",
    "'enterway'"
   ]
  },
  {
   "cell_type": "code",
   "execution_count": 18,
   "id": "d5c5d95b",
   "metadata": {},
   "outputs": [
    {
     "name": "stdout",
     "output_type": "stream",
     "text": [
      "Enter a word: happy\n",
      "appyhay\n"
     ]
    }
   ],
   "source": [
    "#output \n",
    "\n",
    "Input = input(\"Enter a word: \")  \n",
    "vowels = \"aeiou\"\n",
    "\n",
    "def pig(Input):\n",
    "   \n",
    "    if Input[0].lower() in vowels:  #It checks if the first letter of the word (converted to lowercase) is in the vowels string.\n",
    "        Input1 =Input + 'way'        #it will add 'way' in the Input \n",
    "        print(Input1.lower())        \n",
    "    else:\n",
    "        Input2 = Input + (Input[0]) + 'ay'\n",
    "        Input2 =Input2[1:]              #it will start the word from the second character\n",
    "        print(Input2.lower())\n",
    "pig(Input)        "
   ]
  },
  {
   "cell_type": "code",
   "execution_count": null,
   "id": "d3033939",
   "metadata": {},
   "outputs": [],
   "source": [
    "## QUESTION 7."
   ]
  },
  {
   "cell_type": "code",
   "execution_count": null,
   "id": "689b3fc2",
   "metadata": {},
   "outputs": [],
   "source": [
    "File bloodtype1.txt records blood-types of patients (A, B, AB, O or OO) at a clinic. \n",
    "Write a function bldcount() that reads the file with name name and reports (i.e., \n",
    "prints) how many patients there are in each bloodtype.\n",
    ">>> bldcount('bloodtype.txt')\n",
    "There are 10 patients of blood type A.\n",
    "There is one patient of blood type B.\n",
    "There are 10 patients of blood type AB.\n",
    "There are 12 patients of blood type O.\n",
    "There are no patients of blood type OO."
   ]
  },
  {
   "cell_type": "code",
   "execution_count": 31,
   "id": "63bbfb49",
   "metadata": {},
   "outputs": [
    {
     "name": "stdout",
     "output_type": "stream",
     "text": [
      "There are 15 patients of blood type A.\n",
      "There is 1 patient of blood type B.\n",
      "There are 13 patients of blood type AB.\n",
      "There are 15 patients of blood type O.\n",
      "There are 0 patients of blood type OO.\n"
     ]
    }
   ],
   "source": [
    "#OUTPUT \n",
    "file=\"bloodtype1.txt\"                #inserting a file bloodtype1.txt\n",
    "\n",
    "def bldcount(filename):              #defining bldcount filename\n",
    "    infile =open(filename,'r')           #it will open the filename and read it\n",
    "    content = infile.read()              #reading the contents of text file and adding it into content file\n",
    "    infile.close()\n",
    "    groupAB = content.count('AB')          #calculating the count of different blood groups AB,O,OO,A and B\n",
    "    groupO = content.count('O')\n",
    "    groupOO = content.count('OO')\n",
    "    groupA = content.count('A ')\n",
    "    groupB = content.count(' B')\n",
    "    print(\"There are \" + str(groupA)+ \" patients of blood type A.\")       #printing the data of how many patients of particular blood group in the data \n",
    "    print(\"There is \"+ str(groupB) + \" patient of blood type B.\") \n",
    "    print(\"There are \"+ str(groupAB) + \" patients of blood type AB.\")\n",
    "    print(\"There are \"+ str(groupO) + \" patients of blood type O.\")\n",
    "    print(\"There are \"+ str(groupOO) + \" patients of blood type OO.\")\n",
    "\n",
    "bldcount(file)"
   ]
  },
  {
   "cell_type": "markdown",
   "id": "c042410d",
   "metadata": {},
   "source": [
    "## QUESTION 8.CURRENCY CONVERSION"
   ]
  },
  {
   "cell_type": "code",
   "execution_count": null,
   "id": "c200a88a",
   "metadata": {},
   "outputs": [],
   "source": [
    "Write a function curconv() that takes as input:\n",
    "1. a currency represented using a string (e.g., 'JPY' for the Japanese Yen or \n",
    "'EUR' for the Euro)\n",
    "2. an amount\n",
    "and then converts and returns the amount in US dollars.\n",
    ">>> curconv('EUR', 100)\n",
    "122.96544\n",
    ">>> curconv('JPY', 100)\n",
    "1.241401\n",
    "The currency rates you will need are stored in file currencies.txt:\n",
    "AUD 1.0345157 Australian Dollar\n",
    "CHF 1.0237414 Swiss Franc\n",
    "CNY 0.1550176 Chinese Yuan\n",
    "DKK 0.1651442 Danish Krone\n",
    "EUR 1.2296544 Euro\n",
    "GBP 1.5550989 British Pound\n",
    "HKD 0.1270207 Hong Kong Dollar\n",
    "INR 0.0177643 Indian Rupee\n",
    "JPY 0.01241401 Japanese Yen\n",
    "MXN 0.0751848 Mexican Peso\n",
    "MYR 0.3145411 Malaysian Ringgit\n",
    "NOK 0.1677063 Norwegian Krone\n",
    "NZD 0.8003591 New Zealand Dollar\n",
    "PHP 0.0233234 Philippine Peso\n",
    "SEK 0.148269 Swedish Krona\n",
    "SGD 0.788871 Singapore Dollar\n",
    "THB 0.0313789 Thai Baht"
   ]
  },
  {
   "cell_type": "code",
   "execution_count": 24,
   "id": "bc7f3d70",
   "metadata": {},
   "outputs": [
    {
     "name": "stdout",
     "output_type": "stream",
     "text": [
      "Enter the currency to be converted into USD = EUR\n",
      "Enter the amount for conversion = 100\n"
     ]
    },
    {
     "data": {
      "text/plain": [
       "122.96544"
      ]
     },
     "execution_count": 24,
     "metadata": {},
     "output_type": "execute_result"
    }
   ],
   "source": [
    "CURRENCY =input(\"Enter the currency to be converted into USD = \")     #adding the input file for getting the currency \n",
    "AMOUNT =int(input(\"Enter the amount for conversion = \"))               #adding the input file for getting the amount \n",
    "\n",
    "def curconv(CURRENCY,AMOUNT):                          #defining curconv which have two parameters CURRENCY AND AMOUNT\n",
    "    infile = open('currency.txt')                       #IT OPENED currency.txt and content file will read the contents of txt file\n",
    "    content = infile.readlines()\n",
    "    for line in content:                                #it extracts the currency conversion rate from the line and The rate is assumed to be located from index 4 to 13 within the line, and it is converted to a float value\n",
    "        if line.find(CURRENCY)!= -1:\n",
    "            rate = float(line[4:13])\n",
    "            NewCurrency = rate * AMOUNT\n",
    "            return NewCurrency\n",
    "curconv(CURRENCY,AMOUNT)      "
   ]
  },
  {
   "cell_type": "markdown",
   "id": "aa11cdd9",
   "metadata": {},
   "source": [
    "## QUESTION 9. IDENTIFYING ERRORS"
   ]
  },
  {
   "cell_type": "code",
   "execution_count": 25,
   "id": "f89706ba",
   "metadata": {},
   "outputs": [
    {
     "ename": "TypeError",
     "evalue": "unsupported operand type(s) for +: 'int' and 'str'",
     "output_type": "error",
     "traceback": [
      "\u001b[1;31m---------------------------------------------------------------------------\u001b[0m",
      "\u001b[1;31mTypeError\u001b[0m                                 Traceback (most recent call last)",
      "Cell \u001b[1;32mIn[25], line 3\u001b[0m\n\u001b[0;32m      1\u001b[0m \u001b[38;5;66;03m#Trying to add incompatible variables, as in adding 6 + ‘a’\u001b[39;00m\n\u001b[0;32m      2\u001b[0m \u001b[38;5;66;03m#1\u001b[39;00m\n\u001b[1;32m----> 3\u001b[0m \u001b[38;5;28mprint\u001b[39m(\u001b[38;5;241;43m6\u001b[39;49m\u001b[43m \u001b[49m\u001b[38;5;241;43m+\u001b[39;49m\u001b[43m \u001b[49m\u001b[38;5;124;43m'\u001b[39;49m\u001b[38;5;124;43ma\u001b[39;49m\u001b[38;5;124;43m'\u001b[39;49m)\n",
      "\u001b[1;31mTypeError\u001b[0m: unsupported operand type(s) for +: 'int' and 'str'"
     ]
    }
   ],
   "source": [
    "#Trying to add incompatible variables, as in adding 6 + ‘a’\n",
    "#1\n",
    "print(6 + 'a')   "
   ]
  },
  {
   "cell_type": "code",
   "execution_count": null,
   "id": "d0a5d2bf",
   "metadata": {},
   "outputs": [],
   "source": [
    "#Answer is TypeError as the cell tries to print integer and string which is unsupported to access at the same time"
   ]
  },
  {
   "cell_type": "code",
   "execution_count": null,
   "id": "90f21c38",
   "metadata": {},
   "outputs": [],
   "source": [
    "#Referring to the 12th item of a list that has only 10 items\n",
    "#2"
   ]
  },
  {
   "cell_type": "code",
   "execution_count": 26,
   "id": "11a8df38",
   "metadata": {},
   "outputs": [
    {
     "ename": "IndexError",
     "evalue": "list index out of range",
     "output_type": "error",
     "traceback": [
      "\u001b[1;31m---------------------------------------------------------------------------\u001b[0m",
      "\u001b[1;31mIndexError\u001b[0m                                Traceback (most recent call last)",
      "Cell \u001b[1;32mIn[26], line 2\u001b[0m\n\u001b[0;32m      1\u001b[0m lst \u001b[38;5;241m=\u001b[39m [\u001b[38;5;241m1\u001b[39m, \u001b[38;5;241m2\u001b[39m, \u001b[38;5;241m3\u001b[39m, \u001b[38;5;241m4\u001b[39m, \u001b[38;5;241m5\u001b[39m, \u001b[38;5;241m6\u001b[39m, \u001b[38;5;241m7\u001b[39m, \u001b[38;5;241m8\u001b[39m, \u001b[38;5;241m9\u001b[39m, \u001b[38;5;241m10\u001b[39m]\n\u001b[1;32m----> 2\u001b[0m List_name \u001b[38;5;241m=\u001b[39m \u001b[43mlst\u001b[49m\u001b[43m[\u001b[49m\u001b[38;5;241;43m11\u001b[39;49m\u001b[43m]\u001b[49m  \u001b[38;5;66;03m# Trying to access the 12th item at index 11\u001b[39;00m\n\u001b[0;32m      4\u001b[0m \u001b[38;5;28mprint\u001b[39m(List_name)\n",
      "\u001b[1;31mIndexError\u001b[0m: list index out of range"
     ]
    }
   ],
   "source": [
    "lst = [1, 2, 3, 4, 5, 6, 7, 8, 9, 10]\n",
    "List_name = lst[11]  # Trying to access the 12th item at index 11\n",
    "\n",
    "print(List_name)"
   ]
  },
  {
   "cell_type": "code",
   "execution_count": null,
   "id": "7a112c7e",
   "metadata": {},
   "outputs": [],
   "source": [
    "#Answer is IndexError which means we try to print item which can't be accessed as it is not available"
   ]
  },
  {
   "cell_type": "code",
   "execution_count": null,
   "id": "532472b9",
   "metadata": {},
   "outputs": [],
   "source": [
    "#Using a value that is out of range for a function’s input, such as calling math.sqrt(-1.0)\n",
    "#3"
   ]
  },
  {
   "cell_type": "code",
   "execution_count": 27,
   "id": "fb2c18c0",
   "metadata": {},
   "outputs": [
    {
     "ename": "ValueError",
     "evalue": "math domain error",
     "output_type": "error",
     "traceback": [
      "\u001b[1;31m---------------------------------------------------------------------------\u001b[0m",
      "\u001b[1;31mValueError\u001b[0m                                Traceback (most recent call last)",
      "Cell \u001b[1;32mIn[27], line 2\u001b[0m\n\u001b[0;32m      1\u001b[0m \u001b[38;5;28;01mimport\u001b[39;00m \u001b[38;5;21;01mmath\u001b[39;00m\n\u001b[1;32m----> 2\u001b[0m result \u001b[38;5;241m=\u001b[39m \u001b[43mmath\u001b[49m\u001b[38;5;241;43m.\u001b[39;49m\u001b[43msqrt\u001b[49m\u001b[43m(\u001b[49m\u001b[38;5;241;43m-\u001b[39;49m\u001b[38;5;241;43m1.0\u001b[39;49m\u001b[43m)\u001b[49m\n\u001b[0;32m      3\u001b[0m \u001b[38;5;28mprint\u001b[39m (result)\n",
      "\u001b[1;31mValueError\u001b[0m: math domain error"
     ]
    }
   ],
   "source": [
    "import math\n",
    "result = math.sqrt(-1.0)\n",
    "print (result)"
   ]
  },
  {
   "cell_type": "code",
   "execution_count": null,
   "id": "efe08818",
   "metadata": {},
   "outputs": [],
   "source": [
    "#Answer is ValueError (MATH DOMAIN ERROR) which means the maths function doesn't support negative integers"
   ]
  },
  {
   "cell_type": "code",
   "execution_count": null,
   "id": "8a34f16a",
   "metadata": {},
   "outputs": [],
   "source": [
    "#Using an undeclared variable, such as print(x) when x has not been defined \n",
    "#4"
   ]
  },
  {
   "cell_type": "code",
   "execution_count": 28,
   "id": "6dac41a9",
   "metadata": {},
   "outputs": [
    {
     "ename": "NameError",
     "evalue": "name 'x' is not defined",
     "output_type": "error",
     "traceback": [
      "\u001b[1;31m---------------------------------------------------------------------------\u001b[0m",
      "\u001b[1;31mNameError\u001b[0m                                 Traceback (most recent call last)",
      "Cell \u001b[1;32mIn[28], line 2\u001b[0m\n\u001b[0;32m      1\u001b[0m p \u001b[38;5;241m=\u001b[39m \u001b[38;5;241m8\u001b[39m\n\u001b[1;32m----> 2\u001b[0m \u001b[38;5;28mprint\u001b[39m(\u001b[43mx\u001b[49m)\n",
      "\u001b[1;31mNameError\u001b[0m: name 'x' is not defined"
     ]
    }
   ],
   "source": [
    "p = 8\n",
    "print(x)\n"
   ]
  },
  {
   "cell_type": "code",
   "execution_count": null,
   "id": "d7d639c4",
   "metadata": {},
   "outputs": [],
   "source": [
    "#Answer is NameError means x is not defined before printing it ,So it will show NameError"
   ]
  },
  {
   "cell_type": "code",
   "execution_count": null,
   "id": "782848b5",
   "metadata": {},
   "outputs": [],
   "source": [
    "#Trying to open a file that does not exist, such as mistyping the file name or looking in the wrong directory.\n",
    "#PART 5"
   ]
  },
  {
   "cell_type": "code",
   "execution_count": 29,
   "id": "e53e0fc8",
   "metadata": {},
   "outputs": [
    {
     "ename": "FileNotFoundError",
     "evalue": "[Errno 2] No such file or directory: 'ecample.txt'",
     "output_type": "error",
     "traceback": [
      "\u001b[1;31m---------------------------------------------------------------------------\u001b[0m",
      "\u001b[1;31mFileNotFoundError\u001b[0m                         Traceback (most recent call last)",
      "Cell \u001b[1;32mIn[29], line 1\u001b[0m\n\u001b[1;32m----> 1\u001b[0m infile \u001b[38;5;241m=\u001b[39m \u001b[38;5;28;43mopen\u001b[39;49m\u001b[43m(\u001b[49m\u001b[38;5;124;43m'\u001b[39;49m\u001b[38;5;124;43mecample.txt\u001b[39;49m\u001b[38;5;124;43m'\u001b[39;49m\u001b[43m)\u001b[49m\n",
      "File \u001b[1;32m~\\anaconda3\\lib\\site-packages\\IPython\\core\\interactiveshell.py:282\u001b[0m, in \u001b[0;36m_modified_open\u001b[1;34m(file, *args, **kwargs)\u001b[0m\n\u001b[0;32m    275\u001b[0m \u001b[38;5;28;01mif\u001b[39;00m file \u001b[38;5;129;01min\u001b[39;00m {\u001b[38;5;241m0\u001b[39m, \u001b[38;5;241m1\u001b[39m, \u001b[38;5;241m2\u001b[39m}:\n\u001b[0;32m    276\u001b[0m     \u001b[38;5;28;01mraise\u001b[39;00m \u001b[38;5;167;01mValueError\u001b[39;00m(\n\u001b[0;32m    277\u001b[0m         \u001b[38;5;124mf\u001b[39m\u001b[38;5;124m\"\u001b[39m\u001b[38;5;124mIPython won\u001b[39m\u001b[38;5;124m'\u001b[39m\u001b[38;5;124mt let you open fd=\u001b[39m\u001b[38;5;132;01m{\u001b[39;00mfile\u001b[38;5;132;01m}\u001b[39;00m\u001b[38;5;124m by default \u001b[39m\u001b[38;5;124m\"\u001b[39m\n\u001b[0;32m    278\u001b[0m         \u001b[38;5;124m\"\u001b[39m\u001b[38;5;124mas it is likely to crash IPython. If you know what you are doing, \u001b[39m\u001b[38;5;124m\"\u001b[39m\n\u001b[0;32m    279\u001b[0m         \u001b[38;5;124m\"\u001b[39m\u001b[38;5;124myou can use builtins\u001b[39m\u001b[38;5;124m'\u001b[39m\u001b[38;5;124m open.\u001b[39m\u001b[38;5;124m\"\u001b[39m\n\u001b[0;32m    280\u001b[0m     )\n\u001b[1;32m--> 282\u001b[0m \u001b[38;5;28;01mreturn\u001b[39;00m io_open(file, \u001b[38;5;241m*\u001b[39margs, \u001b[38;5;241m*\u001b[39m\u001b[38;5;241m*\u001b[39mkwargs)\n",
      "\u001b[1;31mFileNotFoundError\u001b[0m: [Errno 2] No such file or directory: 'ecample.txt'"
     ]
    }
   ],
   "source": [
    "infile = open('ecample.txt')"
   ]
  },
  {
   "cell_type": "code",
   "execution_count": null,
   "id": "d402070a",
   "metadata": {},
   "outputs": [],
   "source": [
    "#Answer is FileNotFoundError (Errorneous state error)"
   ]
  },
  {
   "cell_type": "markdown",
   "id": "d6c60451",
   "metadata": {},
   "source": [
    "## QUESTION 10.ENCRYPTION"
   ]
  },
  {
   "cell_type": "code",
   "execution_count": null,
   "id": "71c0b962",
   "metadata": {},
   "outputs": [],
   "source": [
    "##Assume that the string letters is already defined as'abcdefghijklmnopqrstuvwxyz'. Write a function called frequencies()that takes a string as its only parameter, and returns a list of integers, showing the number of times each character appears in the text. Your function may ignore any characters that are not in letters."
   ]
  },
  {
   "cell_type": "code",
   "execution_count": 30,
   "id": "d5d54868",
   "metadata": {},
   "outputs": [
    {
     "name": "stdout",
     "output_type": "stream",
     "text": [
      "Enter a string: Apple\n"
     ]
    },
    {
     "data": {
      "text/plain": [
       "[1, 0, 0, 0, 1, 0, 0, 0, 0, 0, 0, 1, 0, 0, 0, 2, 0, 0, 0, 0, 0, 0, 0, 0, 0, 0]"
      ]
     },
     "execution_count": 30,
     "metadata": {},
     "output_type": "execute_result"
    }
   ],
   "source": [
    " string = input(\"Enter a string: \")                 #Printing the string to put input string\n",
    "def frequencies(string):                            #Defining the frequencies function \n",
    "    \n",
    "    letters = 'abcdefghijklmnopqrstuvwxyz'            #letters have been added\n",
    "   \n",
    "    counts = [0] * 26  # Initialize a list of zeros for each letter\n",
    "\n",
    "    # Convert the text to lowercase for case-insensitive comparison\n",
    "    string = string.lower()\n",
    "\n",
    "    for char in string:\n",
    "        if char in letters:\n",
    "            index = letters.index(char)              # Find the index of the character in the letters string\n",
    "            counts[index] += 1\n",
    "\n",
    "    return counts\n",
    "frequencies(string)"
   ]
  }
 ],
 "metadata": {
  "kernelspec": {
   "display_name": "Python 3 (ipykernel)",
   "language": "python",
   "name": "python3"
  },
  "language_info": {
   "codemirror_mode": {
    "name": "ipython",
    "version": 3
   },
   "file_extension": ".py",
   "mimetype": "text/x-python",
   "name": "python",
   "nbconvert_exporter": "python",
   "pygments_lexer": "ipython3",
   "version": "3.10.9"
  }
 },
 "nbformat": 4,
 "nbformat_minor": 5
}
